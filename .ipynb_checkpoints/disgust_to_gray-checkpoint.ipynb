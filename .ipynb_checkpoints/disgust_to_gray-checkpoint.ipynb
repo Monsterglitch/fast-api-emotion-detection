{
 "cells": [
  {
   "cell_type": "code",
   "execution_count": 1,
   "id": "303e3823-fe73-4d53-8600-2ec9b3c9942c",
   "metadata": {},
   "outputs": [],
   "source": [
    "import os\n",
    "import tensorflow as tf\n",
    "from tensorflow.keras.preprocessing.image import load_img, img_to_array, save_img\n",
    "data_path = os.getcwd()\n",
    "\n",
    "# Define paths\n",
    "input_directory1 = data_path+\"/disgust\"\n",
    "input_directory2 = data_path+\"/disgust1\"\n",
    "output_directory = data_path+\"/full_disgust\"\n",
    "\n",
    "# Create the output directory if it doesn't exist\n",
    "if not os.path.exists(output_directory):\n",
    "    os.makedirs(output_directory)"
   ]
  },
  {
   "cell_type": "code",
   "execution_count": 4,
   "id": "bccb8990-fafd-4ab2-85a2-15b52c4bace4",
   "metadata": {},
   "outputs": [
    {
     "name": "stdout",
     "output_type": "stream",
     "text": [
      "All images processed and saved to\n"
     ]
    }
   ],
   "source": [
    "# Define target size\n",
    "target_size = (48, 48)\n",
    "\n",
    "# Function to process and save images\n",
    "def process_and_save_image(image_path, output_path):\n",
    "    # Load image\n",
    "    image = load_img(image_path, color_mode='grayscale', target_size=target_size)\n",
    "    \n",
    "    # Convert image to array\n",
    "    image_array = img_to_array(image)\n",
    "    \n",
    "    # Save the processed image\n",
    "    save_img(output_path, image_array)\n",
    "\n",
    "# Loop through all files in the input directory\n",
    "for root, _, files in os.walk(input_directory1):\n",
    "    for file in files:\n",
    "        if file.lower().endswith(('png', 'jpg', 'jpeg', 'bmp', 'tiff')):\n",
    "            input_path = os.path.join(root, file)\n",
    "            relative_path = os.path.relpath(input_path, input_directory1)\n",
    "            output_path = os.path.join(output_directory, relative_path)\n",
    "            \n",
    "            # Create output subdirectories if they don't exist\n",
    "            output_subdir = os.path.dirname(output_path)\n",
    "            if not os.path.exists(output_subdir):\n",
    "                os.makedirs(output_subdir)\n",
    "            \n",
    "            # Process and save the image\n",
    "            process_and_save_image(input_path, output_path)\n",
    "\n",
    "for root, _, files in os.walk(input_directory2):\n",
    "    for file in files:\n",
    "        if file.lower().endswith(('png', 'jpg', 'jpeg', 'bmp', 'tiff')):\n",
    "            input_path = os.path.join(root, file)\n",
    "            relative_path = os.path.relpath(input_path, input_directory2)\n",
    "            output_path = os.path.join(output_directory, relative_path)\n",
    "            \n",
    "            # Create output subdirectories if they don't exist\n",
    "            output_subdir = os.path.dirname(output_path)\n",
    "            if not os.path.exists(output_subdir):\n",
    "                os.makedirs(output_subdir)\n",
    "            \n",
    "            # Process and save the image\n",
    "            process_and_save_image(input_path, output_path)\n",
    "\n",
    "print(f'All images processed and saved to')\n"
   ]
  }
 ],
 "metadata": {
  "kernelspec": {
   "display_name": "Python 3 (ipykernel)",
   "language": "python",
   "name": "python3"
  },
  "language_info": {
   "codemirror_mode": {
    "name": "ipython",
    "version": 3
   },
   "file_extension": ".py",
   "mimetype": "text/x-python",
   "name": "python",
   "nbconvert_exporter": "python",
   "pygments_lexer": "ipython3",
   "version": "3.10.7"
  }
 },
 "nbformat": 4,
 "nbformat_minor": 5
}
