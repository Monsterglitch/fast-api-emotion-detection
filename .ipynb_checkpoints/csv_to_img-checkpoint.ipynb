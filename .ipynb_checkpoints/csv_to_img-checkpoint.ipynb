{
 "cells": [
  {
   "cell_type": "code",
   "execution_count": 1,
   "id": "3e12d172-baa8-4081-9090-e3ebd7975e01",
   "metadata": {},
   "outputs": [],
   "source": [
    "import os\n",
    "notebook_path = os.getcwd()\n",
    "data_path = \"E:\\Emotion_Detection\\data\""
   ]
  },
  {
   "cell_type": "code",
   "execution_count": 2,
   "id": "dd2869ac-31b6-4a97-9d4f-8e7ab3bfc47a",
   "metadata": {},
   "outputs": [],
   "source": [
    "from __future__ import print_function\n",
    "import pandas as pd\n",
    "import numpy as np\n",
    "from PIL import Image\n",
    "import os\n",
    "from tqdm import tqdm"
   ]
  },
  {
   "cell_type": "code",
   "execution_count": 24,
   "id": "edd07d30-ae73-4c24-a06f-8c40280304da",
   "metadata": {},
   "outputs": [],
   "source": [
    "def split_train(val_filename= 'val'):\n",
    "    \"\"\"\n",
    "    Helper function to split the validation and train data from general train file.\n",
    "        params:-\n",
    "            data_path = path to the folder that contains the train data file\n",
    "    \"\"\"\n",
    "    train = pd.read_csv(notebook_path + \"/main.csv\")\n",
    "    validation_data = pd.DataFrame(train.iloc[:3589,:].reset_index(drop=True))\n",
    "    train_data = pd.DataFrame(train.iloc[3589:,:].reset_index(drop=True))\n",
    "    train_data.to_csv(notebook_path+\"/train.csv\", index=False)\n",
    "    validation_data.to_csv(notebook_path+\"/\"+val_filename+\".csv\", index=False)\n",
    "    print(\"Done splitting the test file into validation & final test file\")"
   ]
  },
  {
   "cell_type": "code",
   "execution_count": 25,
   "id": "fb9a5494-4ffd-43bf-b406-c9ba66f963b0",
   "metadata": {},
   "outputs": [],
   "source": [
    "def str_to_image(str_img = ' '):\n",
    "    '''\n",
    "    Convert string pixels from the csv file into image object\n",
    "        params:- take an image string\n",
    "        return :- return PIL image object\n",
    "    '''\n",
    "    imgarray_str = str_img.split(' ')\n",
    "    imgarray = np.asarray(imgarray_str,dtype=np.uint8).reshape(48,48)\n",
    "    return Image.fromarray(imgarray)"
   ]
  },
  {
   "cell_type": "code",
   "execution_count": 26,
   "id": "2a398951-cf64-4f7f-a615-a36c2e21b4fd",
   "metadata": {},
   "outputs": [],
   "source": [
    "def save_images(datatype='train'):\n",
    "    '''\n",
    "    save_images is a function responsible for saving images from data files e.g(train, test) in a desired folder\n",
    "        params:-\n",
    "        datatype= str e.g (train, val, test)\n",
    "    '''\n",
    "    foldername= data_path+\"/\"+datatype+\"_img\"\n",
    "    csvfile_path= notebook_path+\"/data\"+\"/\"+datatype+\".csv\"\n",
    "    if not os.path.exists(foldername):\n",
    "        os.mkdir(foldername)\n",
    "\n",
    "    data = pd.read_csv(csvfile_path)\n",
    "    images = data['pixels'] #dataframe to series pandas\n",
    "    numberofimages = images.shape[0]\n",
    "    for index in tqdm(range(numberofimages)):\n",
    "        img = str_to_image(images[index])\n",
    "        img.save(os.path.join(foldername,'{}{}.jpg'.format(datatype,index)),'JPEG')\n",
    "    print('Done saving {} data'.format((foldername)))"
   ]
  },
  {
   "cell_type": "code",
   "execution_count": 27,
   "id": "771d5c41-5fb5-4590-811d-2d901afd69bf",
   "metadata": {},
   "outputs": [
    {
     "name": "stdout",
     "output_type": "stream",
     "text": [
      "Done splitting the test file into validation & final test file\n"
     ]
    }
   ],
   "source": [
    "split_train()"
   ]
  },
  {
   "cell_type": "code",
   "execution_count": 76,
   "id": "cc11e0c0-fafa-4a55-901f-9c3999ac95be",
   "metadata": {},
   "outputs": [
    {
     "name": "stderr",
     "output_type": "stream",
     "text": [
      "100%|██████████| 3589/3589 [00:07<00:00, 484.35it/s]"
     ]
    },
    {
     "name": "stdout",
     "output_type": "stream",
     "text": [
      "Done saving E:\\Emotion_Detection\\data/val_img data\n"
     ]
    },
    {
     "name": "stderr",
     "output_type": "stream",
     "text": [
      "\n"
     ]
    }
   ],
   "source": [
    "save_images(datatype='val')"
   ]
  },
  {
   "cell_type": "code",
   "execution_count": 23,
   "id": "77ad0622-9746-4ee7-903d-f6990c61ead6",
   "metadata": {},
   "outputs": [],
   "source": [
    "# df = pd.read_csv(notebook_path+\"/main.csv\")\n",
    "# df = df.sample(frac=1).reset_index(drop=True)\n",
    "# df.to_csv(notebook_path+\"/main1.csv\", index=False)\n",
    "# # df.head()"
   ]
  },
  {
   "cell_type": "code",
   "execution_count": 16,
   "id": "4296a2d4-05c9-4ae4-8cff-73d22d313183",
   "metadata": {},
   "outputs": [],
   "source": [
    "# input_directory = notebook_path+'/full_disgust'\n",
    "\n",
    "# # Initialize lists to hold data\n",
    "# labels = []\n",
    "# pixel_values = []\n",
    "\n",
    "# # Process each image in the directory\n",
    "# for filename in os.listdir(input_directory):\n",
    "#     if filename.endswith('.png') or filename.endswith('.jpg'):  # Adjust as needed\n",
    "#         # Construct the full file path\n",
    "#         file_path = os.path.join(input_directory, filename)\n",
    "        \n",
    "#         # Open the image\n",
    "#         with Image.open(file_path) as img:\n",
    "#             # Convert to numpy array\n",
    "#             img_array = np.array(img)\n",
    "            \n",
    "#             # Flatten the image array and convert to space-separated string\n",
    "#             pixel_string = ' '.join(map(str, img_array.flatten()))\n",
    "            \n",
    "#             # Append data to lists\n",
    "#             labels.append(1)\n",
    "#             pixel_values.append(pixel_string)\n",
    "\n",
    "# # Create a DataFrame\n",
    "# df1 = pd.DataFrame({\n",
    "#     'emotion': labels,\n",
    "#     'pixels': pixel_values\n",
    "# })\n",
    "# df1.tail()"
   ]
  },
  {
   "cell_type": "code",
   "execution_count": 17,
   "id": "bd612e5e-4837-446d-bf54-882936fc334e",
   "metadata": {},
   "outputs": [],
   "source": [
    "# combined_df = pd.concat([df, df1], ignore_index=True)\n",
    "# combined_df.tail()\n",
    "# combined_df.to_csv(notebook_path+\"/main1.csv\", index=False)"
   ]
  }
 ],
 "metadata": {
  "kernelspec": {
   "display_name": "Python 3 (ipykernel)",
   "language": "python",
   "name": "python3"
  },
  "language_info": {
   "codemirror_mode": {
    "name": "ipython",
    "version": 3
   },
   "file_extension": ".py",
   "mimetype": "text/x-python",
   "name": "python",
   "nbconvert_exporter": "python",
   "pygments_lexer": "ipython3",
   "version": "3.10.7"
  }
 },
 "nbformat": 4,
 "nbformat_minor": 5
}
