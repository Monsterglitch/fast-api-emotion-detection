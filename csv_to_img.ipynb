{
 "cells": [
  {
   "cell_type": "code",
   "execution_count": 1,
   "id": "3e12d172-baa8-4081-9090-e3ebd7975e01",
   "metadata": {},
   "outputs": [],
   "source": [
    "import os\n",
    "notebook_path = os.getcwd()\n",
    "data_path = \"E:\\Emotion_Detection\\data\""
   ]
  },
  {
   "cell_type": "code",
   "execution_count": 2,
   "id": "dd2869ac-31b6-4a97-9d4f-8e7ab3bfc47a",
   "metadata": {},
   "outputs": [
    {
     "ename": "ModuleNotFoundError",
     "evalue": "No module named 'tqdm'",
     "output_type": "error",
     "traceback": [
      "\u001b[1;31m---------------------------------------------------------------------------\u001b[0m",
      "\u001b[1;31mModuleNotFoundError\u001b[0m                       Traceback (most recent call last)",
      "Cell \u001b[1;32mIn[2], line 6\u001b[0m\n\u001b[0;32m      4\u001b[0m \u001b[38;5;28;01mfrom\u001b[39;00m \u001b[38;5;21;01mPIL\u001b[39;00m \u001b[38;5;28;01mimport\u001b[39;00m Image\n\u001b[0;32m      5\u001b[0m \u001b[38;5;28;01mimport\u001b[39;00m \u001b[38;5;21;01mos\u001b[39;00m\n\u001b[1;32m----> 6\u001b[0m \u001b[38;5;28;01mfrom\u001b[39;00m \u001b[38;5;21;01mtqdm\u001b[39;00m \u001b[38;5;28;01mimport\u001b[39;00m tqdm\n",
      "\u001b[1;31mModuleNotFoundError\u001b[0m: No module named 'tqdm'"
     ]
    }
   ],
   "source": [
    "from __future__ import print_function\n",
    "import pandas as pd\n",
    "import numpy as np\n",
    "from PIL import Image\n",
    "import os\n",
    "from tqdm import tqdm"
   ]
  },
  {
   "cell_type": "code",
   "execution_count": 3,
   "id": "edd07d30-ae73-4c24-a06f-8c40280304da",
   "metadata": {},
   "outputs": [],
   "source": [
    "def split_train(val_filename= 'val'):\n",
    "    \"\"\"\n",
    "    Helper function to split the validation and train data from general train file.\n",
    "        params:-\n",
    "            data_path = path to the folder that contains the train data file\n",
    "    \"\"\"\n",
    "    train = pd.read_csv(notebook_path + \"/main.csv\")\n",
    "    validation_data = pd.DataFrame(train.iloc[:3589,:].reset_index(drop=True))\n",
    "    train_data = pd.DataFrame(train.iloc[3589:,:].reset_index(drop=True))\n",
    "    train_data.to_csv(notebook_path+\"/train.csv\", index=False)\n",
    "    validation_data.to_csv(notebook_path+\"/\"+val_filename+\".csv\", index=False)\n",
    "    print(\"Done splitting the test file into validation & final test file\")"
   ]
  },
  {
   "cell_type": "code",
   "execution_count": 25,
   "id": "fb9a5494-4ffd-43bf-b406-c9ba66f963b0",
   "metadata": {},
   "outputs": [],
   "source": [
    "def str_to_image(str_img = ' '):\n",
    "    '''\n",
    "    Convert string pixels from the csv file into image object\n",
    "        params:- take an image string\n",
    "        return :- return PIL image object\n",
    "    '''\n",
    "    imgarray_str = str_img.split(' ')\n",
    "    imgarray = np.asarray(imgarray_str,dtype=np.uint8).reshape(48,48)\n",
    "    return Image.fromarray(imgarray)"
   ]
  },
  {
   "cell_type": "code",
   "execution_count": 26,
   "id": "2a398951-cf64-4f7f-a615-a36c2e21b4fd",
   "metadata": {},
   "outputs": [],
   "source": [
    "def save_images(datatype='train'):\n",
    "    '''\n",
    "    save_images is a function responsible for saving images from data files e.g(train, test) in a desired folder\n",
    "        params:-\n",
    "        datatype= str e.g (train, val, test)\n",
    "    '''\n",
    "    foldername= data_path+\"/\"+datatype+\"_img\"\n",
    "    csvfile_path= notebook_path+\"/data\"+\"/\"+datatype+\".csv\"\n",
    "    if not os.path.exists(foldername):\n",
    "        os.mkdir(foldername)\n",
    "\n",
    "    data = pd.read_csv(csvfile_path)\n",
    "    images = data['pixels'] #dataframe to series pandas\n",
    "    numberofimages = images.shape[0]\n",
    "    for index in tqdm(range(numberofimages)):\n",
    "        img = str_to_image(images[index])\n",
    "        img.save(os.path.join(foldername,'{}{}.jpg'.format(datatype,index)),'JPEG')\n",
    "    print('Done saving {} data'.format((foldername)))"
   ]
  },
  {
   "cell_type": "code",
   "execution_count": 27,
   "id": "771d5c41-5fb5-4590-811d-2d901afd69bf",
   "metadata": {},
   "outputs": [
    {
     "name": "stdout",
     "output_type": "stream",
     "text": [
      "Done splitting the test file into validation & final test file\n"
     ]
    }
   ],
   "source": [
    "split_train()"
   ]
  },
  {
   "cell_type": "code",
   "execution_count": 76,
   "id": "cc11e0c0-fafa-4a55-901f-9c3999ac95be",
   "metadata": {},
   "outputs": [
    {
     "name": "stderr",
     "output_type": "stream",
     "text": [
      "100%|██████████| 3589/3589 [00:07<00:00, 484.35it/s]"
     ]
    },
    {
     "name": "stdout",
     "output_type": "stream",
     "text": [
      "Done saving E:\\Emotion_Detection\\data/val_img data\n"
     ]
    },
    {
     "name": "stderr",
     "output_type": "stream",
     "text": [
      "\n"
     ]
    }
   ],
   "source": [
    "save_images(datatype='val')"
   ]
  }
 ],
 "metadata": {
  "kernelspec": {
   "display_name": "Python 3 (ipykernel)",
   "language": "python",
   "name": "python3"
  },
  "language_info": {
   "codemirror_mode": {
    "name": "ipython",
    "version": 3
   },
   "file_extension": ".py",
   "mimetype": "text/x-python",
   "name": "python",
   "nbconvert_exporter": "python",
   "pygments_lexer": "ipython3",
   "version": "3.10.7"
  }
 },
 "nbformat": 4,
 "nbformat_minor": 5
}
